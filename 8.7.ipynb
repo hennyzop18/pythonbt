from collections import Counter
string_var = 'Letter'
count = Counter(string_var) 
# this will print dict count
print(count) 
