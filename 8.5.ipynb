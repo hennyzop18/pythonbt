# Program to check if a number is prime or not

num = int(input("Enter  number: "))


# define a flag variable
flag = False

if num == 1:
    print("False")
elif num > 1:
    # check for factors
    for i in range(2, num):
        if (num % i) == 0:
            flag = True
            break

    # check if flag is True
    if flag:
        print("True")
    else:
        print("False")



for Num in range (1, 21):
    count = 0
    for i in range(2, (Num//2 + 1)):
        if(Num % i == 0):
            count = count + 1
            break

    if (count == 0 and Num != 1):
        print(" %d" %Num, end = '  ')
