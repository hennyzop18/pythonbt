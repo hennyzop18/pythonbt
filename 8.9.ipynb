import numpy as np
print(np.__version__)
array1=np.array([[1,2,3],[4,5,6]],ndmin=2)  
array2=np.array([[9,8,7],[6,5,4]],ndmin=2)  
res=np.multiply(array1,array2)  
print(res)
